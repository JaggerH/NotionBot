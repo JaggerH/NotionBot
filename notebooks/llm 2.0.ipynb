{
 "cells": [
  {
   "cell_type": "code",
   "execution_count": 1,
   "metadata": {},
   "outputs": [],
   "source": [
    "import os, sys\n",
    "sys.path.append('..')\n",
    "\n",
    "from utils.set_env import set_env\n",
    "set_env()\n",
    "\n",
    "from langchain_community.llms.ollama import Ollama\n",
    "from langchain_huggingface import HuggingFaceEmbeddings\n",
    "from utils.str_helper import format_documents_vscode\n",
    "\n",
    "# model_name = \"qwen:32b\"\n",
    "# llm = Ollama(model=model_name, temperature=0)\n",
    "\n",
    "from langchain_community.llms.moonshot import Moonshot\n",
    "llm = Moonshot()"
   ]
  },
  {
   "cell_type": "code",
   "execution_count": 2,
   "metadata": {},
   "outputs": [],
   "source": [
    "path = r'chapter/000002_万  科Ａ_2023年年度报告_1219487237.md'"
   ]
  },
  {
   "cell_type": "code",
   "execution_count": 3,
   "metadata": {},
   "outputs": [
    {
     "name": "stderr",
     "output_type": "stream",
     "text": [
      "c:\\Users\\Jagger\\anaconda3\\envs\\NotionBot\\lib\\site-packages\\langchain_core\\_api\\deprecation.py:119: LangChainDeprecationWarning: The class `LLMChain` was deprecated in LangChain 0.1.17 and will be removed in 0.3.0. Use RunnableSequence, e.g., `prompt | llm` instead.\n",
      "  warn_deprecated(\n"
     ]
    },
    {
     "name": "stdout",
     "output_type": "stream",
     "text": [
      "1. 房地产开发及相关资产经营业务：这是公司的主要业务，占营业收入的92.3%。该业务包括商品房的开发和销售，以及与房地产开发相关的资产经营。2023年，公司实现房地产开发及相关资产经营业务的营业收入为4,297.5亿元，同比下降8.65%。在开发业务方面，公司全年开发业务销售金额3,761.2亿元，位居行业第二，保质交付28.9万个单位，191个批次实现交付即办证。此外，公司还通过资产交易、发行REITs等方式实现持有类业务的商业模式闭环。\n",
      "\n",
      "2. 物业服务：这是公司的另一项重要业务，占营业收入的6.3%。2023年，公司实现物业服务营业收入294.3亿元，同比增长14.17%。物业服务业务包括为住宅和商业物业提供物业管理、安全、清洁、绿化等服务。公司在物业服务领域持续提升服务品质和经营效益，物业服务净利润增长高于收入增长。\n",
      "\n",
      "总结来说，万科企业股份有限公司的主营业务包括房地产开发及相关资产经营和物业服务两大板块。其中，房地产开发及相关资产经营是公司的核心业务，贡献了绝大部分的营业收入。物业服务作为公司的另一项重要业务，近年来也实现了较快的增长。面对房地产市场的调整，公司通过优化资债结构、加强与金融机构合作、提升服务品质等举措，保持了业务的稳健发展。\n"
     ]
    }
   ],
   "source": [
    "from langchain.chains.combine_documents.stuff import StuffDocumentsChain\n",
    "from langchain.document_loaders import TextLoader\n",
    "from langchain.chains.llm import LLMChain\n",
    "from langchain_core.prompts import PromptTemplate\n",
    "\n",
    "# Define prompt\n",
    "prompt_template = \"\"\"\n",
    "总结以下文本中公司的主营业务:\n",
    "- 如果有多个业务，请分开表述。\n",
    "- 结合文本中的信息，对每项业务的内容或者生产产品进行进一步的解释。\n",
    "\n",
    "请按照以下格式进行总结：\n",
    "1. 业务名称：<详细描述业务内容>\n",
    "\n",
    "请总结以下文本中公司的主营业务：\n",
    "\"{text}\"\n",
    "\"\"\"\n",
    "prompt = PromptTemplate.from_template(prompt_template)\n",
    "\n",
    "# Define LLM chain\n",
    "llm_chain = LLMChain(llm=llm, prompt=prompt)\n",
    "# Define StuffDocumentsChain\n",
    "stuff_chain = StuffDocumentsChain(llm_chain=llm_chain, document_variable_name=\"text\")\n",
    "\n",
    "loader = TextLoader(path)\n",
    "docs = loader.load()\n",
    "print(stuff_chain.invoke(docs)[\"output_text\"])"
   ]
  },
  {
   "cell_type": "code",
   "execution_count": null,
   "metadata": {},
   "outputs": [],
   "source": []
  }
 ],
 "metadata": {
  "kernelspec": {
   "display_name": "NotionBot",
   "language": "python",
   "name": "python3"
  },
  "language_info": {
   "codemirror_mode": {
    "name": "ipython",
    "version": 3
   },
   "file_extension": ".py",
   "mimetype": "text/x-python",
   "name": "python",
   "nbconvert_exporter": "python",
   "pygments_lexer": "ipython3",
   "version": "3.10.14"
  }
 },
 "nbformat": 4,
 "nbformat_minor": 2
}
