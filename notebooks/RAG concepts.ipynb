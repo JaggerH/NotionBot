{
 "cells": [
  {
   "cell_type": "markdown",
   "metadata": {},
   "source": [
    "## [How to build RAG](https://www.notion.so/d75758fbb9f0473f87f47febd40dd9dd?v=b7715a608c494e35a5663e203701f3f3&p=5566dedeb23e404797303f399b2ed559&pm=s)"
   ]
  },
  {
   "cell_type": "code",
   "execution_count": null,
   "metadata": {},
   "outputs": [],
   "source": [
    "def single_document_vscode(document):\n",
    "    separator_in_page = '-' * 50\n",
    "    separator = \"=\" * 50\n",
    "\n",
    "    page_content = document.page_content\n",
    "    metadata = document.metadata\n",
    "\n",
    "    # Format metadata\n",
    "    formatted_metadata = f\"Metadata:\\nPage: {metadata['page']}\\nSource: {metadata['source']}\"\n",
    "\n",
    "    # Format page content with line breaks\n",
    "    formatted_content = \"\\n\".join(page_content.split(\"\\n\"))\n",
    "\n",
    "    # Print formatted content and metadata\n",
    "    print(\"Page Content:\\n\" + formatted_content)\n",
    "    print(separator_in_page)\n",
    "    print(formatted_metadata)\n",
    "    print(separator + \"\\n\")\n",
    "    \n",
    "def format_documents_vscode(documents):\n",
    "    separator_in_page = '-' * 50\n",
    "    separator = \"=\" * 50\n",
    "\n",
    "    for doc in documents:\n",
    "        page_content = doc.page_content\n",
    "        metadata = doc.metadata\n",
    "        \n",
    "        # Format metadata\n",
    "        formatted_metadata = f\"Metadata:\\nPage: {metadata['page']}\\nSource: {metadata['source']}\"\n",
    "        \n",
    "        # Format page content with line breaks\n",
    "        formatted_content = \"\\n\".join(page_content.split(\"\\n\"))\n",
    "        \n",
    "        # Print formatted content and metadata\n",
    "        print(\"Page Content:\\n\" + formatted_content)\n",
    "        print(separator_in_page)\n",
    "        print(formatted_metadata)\n",
    "        print(separator + \"\\n\")"
   ]
  },
  {
   "cell_type": "markdown",
   "metadata": {},
   "source": [
    "# 创建RAG"
   ]
  },
  {
   "cell_type": "markdown",
   "metadata": {},
   "source": [
    "## 创建llm and embeding\n",
    "选用llama2-chinese:13b作为LLM\n",
    "\n",
    "选用M3E作为embeding"
   ]
  },
  {
   "cell_type": "code",
   "execution_count": null,
   "metadata": {},
   "outputs": [],
   "source": [
    "from langchain_community.llms.ollama import Ollama\n",
    "from langchain_huggingface import HuggingFaceEmbeddings\n",
    "\n",
    "DATA_PATH=\"data/601919_中远海控\"\n",
    "DB_PATH = \"vectorstores/db/601919\"\n",
    "\n",
    "model_name = \"llama2-chinese:13b\"\n",
    "llm = Ollama(model=model_name, temperature=0)\n",
    "model_kwargs = {'device': 'cuda'}\n",
    "embeddings = HuggingFaceEmbeddings(model_name=\"../ai_models/m3e-base\", model_kwargs=model_kwargs)\n"
   ]
  },
  {
   "cell_type": "markdown",
   "metadata": {},
   "source": [
    "使用Chroma创建VectorDB"
   ]
  },
  {
   "cell_type": "code",
   "execution_count": null,
   "metadata": {},
   "outputs": [],
   "source": [
    "from langchain.text_splitter import RecursiveCharacterTextSplitter\n",
    "from langchain.document_loaders import PyPDFLoader, DirectoryLoader\n",
    "from langchain.document_loaders.pdf import PyPDFDirectoryLoader\n",
    "from langchain.document_loaders import UnstructuredHTMLLoader, BSHTMLLoader\n",
    "from langchain.vectorstores import Chroma\n",
    "from langchain_text_splitters import MarkdownHeaderTextSplitter\n",
    "\n",
    "import os\n",
    "\n",
    "headers_to_split_on = [\n",
    "    (\"#\", \"Header 1\"),\n",
    "    (\"##\", \"Header 2\"),\n",
    "    (\"###\", \"Header 3\"),\n",
    "]\n",
    "\n",
    "def create_vector_db():\n",
    "    loader = PyPDFDirectoryLoader(DATA_PATH)\n",
    "    documents = loader.load()\n",
    "    # with open('test.md', 'r', encoding='utf-8') as file:\n",
    "    #     documents = file.read()\n",
    "    # markdown_splitter = MarkdownHeaderTextSplitter(headers_to_split_on=headers_to_split_on)\n",
    "    # documents = markdown_splitter.split_text(documents)\n",
    "    print(f\"Processed {len(documents)} pdf files\")\n",
    "    text_splitter = RecursiveCharacterTextSplitter(chunk_size=1000, chunk_overlap=50)\n",
    "    texts=text_splitter.split_documents(documents)\n",
    "    \n",
    "    vectorstore = Chroma.from_documents(documents=texts, embedding=embeddings, persist_directory=DB_PATH)      \n",
    "    vectorstore.persist()\n",
    "\n",
    "create_vector_db()"
   ]
  },
  {
   "cell_type": "markdown",
   "metadata": {},
   "source": [
    "# [How to use a vectorstore as a retriever](https://python.langchain.com/v0.2/docs/how_to/vectorstore_retriever/)"
   ]
  },
  {
   "cell_type": "code",
   "execution_count": null,
   "metadata": {},
   "outputs": [],
   "source": [
    "from langchain.vectorstores import Chroma\n",
    "vectorstore = Chroma(persist_directory=DB_PATH, embedding_function=embeddings)"
   ]
  },
  {
   "cell_type": "markdown",
   "metadata": {},
   "source": [
    "## Regular retriever"
   ]
  },
  {
   "cell_type": "code",
   "execution_count": null,
   "metadata": {},
   "outputs": [],
   "source": [
    "retriever = vectorstore.as_retriever()\n",
    "docs = retriever.invoke(\"公司从事的业务情况\")\n",
    "format_documents_vscode(docs)"
   ]
  },
  {
   "cell_type": "markdown",
   "metadata": {},
   "source": [
    "## [Maximum marginal relevance retrieval](https://python.langchain.com/v0.2/docs/how_to/vectorstore_retriever/#maximum-marginal-relevance-retrieval)"
   ]
  },
  {
   "cell_type": "code",
   "execution_count": null,
   "metadata": {},
   "outputs": [],
   "source": [
    "retriever = vectorstore.as_retriever(search_type=\"mmr\")\n",
    "retriever.invoke(\"公司的主要客户有哪些，前五客户集中度如何\")"
   ]
  },
  {
   "cell_type": "markdown",
   "metadata": {},
   "source": [
    "## [MultiQueryRetriever](https://python.langchain.com/v0.2/docs/how_to/MultiQueryRetriever/)"
   ]
  },
  {
   "cell_type": "code",
   "execution_count": null,
   "metadata": {},
   "outputs": [],
   "source": [
    "from langchain.retrievers.multi_query import MultiQueryRetriever\n",
    "\n",
    "question = \"报告期内公司从事的业务情况\"\n",
    "retriever = vectorstore.as_retriever()\n",
    "retriever_from_llm = MultiQueryRetriever.from_llm(\n",
    "    retriever=retriever, llm=llm\n",
    ")\n",
    "unique_docs = retriever_from_llm.invoke(question)\n",
    "format_documents_vscode(unique_docs)"
   ]
  },
  {
   "cell_type": "markdown",
   "metadata": {},
   "source": [
    "## [Add scores to retriever results](https://python.langchain.com/v0.2/docs/how_to/add_scores_retriever/)"
   ]
  },
  {
   "cell_type": "code",
   "execution_count": null,
   "metadata": {},
   "outputs": [],
   "source": [
    "from typing import List\n",
    "\n",
    "from langchain_core.documents import Document\n",
    "from langchain_core.runnables import chain\n",
    "\n",
    "\n",
    "@chain\n",
    "def retriever(query: str) -> List[Document]:\n",
    "    docs, scores = zip(*vectorstore.similarity_search_with_score(query))\n",
    "    for doc, score in zip(docs, scores):\n",
    "        doc.metadata[\"score\"] = score\n",
    "\n",
    "    return docs\n",
    "\n",
    "docs = retriever.invoke(\"公司从事的业务情况\")\n",
    "format_documents_vscode(unique_docs)"
   ]
  },
  {
   "cell_type": "markdown",
   "metadata": {},
   "source": [
    "## [contextual compression](https://python.langchain.com/v0.2/docs/how_to/contextual_compression/)"
   ]
  },
  {
   "cell_type": "code",
   "execution_count": null,
   "metadata": {},
   "outputs": [],
   "source": [
    "from langchain.document_loaders.pdf import PyPDFDirectoryLoader\n",
    "from langchain.text_splitter import RecursiveCharacterTextSplitter\n",
    "from langchain.document_loaders import PyPDFLoader\n",
    "\n",
    "PDF_PATH = \"data/601919_中远海控/601919_中远海控_中远海控2023年年度报告_1219449961.pdf\"\n",
    "loader = PyPDFLoader(PDF_PATH)\n",
    "documents = loader.load()\n",
    "\n",
    "print(f\"Processed {len(documents)} pdf files\")\n",
    "text_splitter = RecursiveCharacterTextSplitter(chunk_size=1000, chunk_overlap=50)\n",
    "texts = text_splitter.split_documents(documents)"
   ]
  },
  {
   "cell_type": "markdown",
   "metadata": {},
   "source": [
    "# Base Retriever"
   ]
  },
  {
   "cell_type": "code",
   "execution_count": null,
   "metadata": {},
   "outputs": [],
   "source": [
    "from langchain_community.vectorstores import FAISS\n",
    "    \n",
    "retriever = FAISS.from_documents(texts, embeddings).as_retriever()\n",
    "docs = retriever.invoke(\"公司从事的业务情况\")\n",
    "format_documents_vscode(docs)"
   ]
  },
  {
   "cell_type": "markdown",
   "metadata": {},
   "source": [
    "## Compress Retriever\n",
    "**目前实验下来效果较差**"
   ]
  },
  {
   "cell_type": "code",
   "execution_count": null,
   "metadata": {},
   "outputs": [],
   "source": [
    "from langchain.retrievers import ContextualCompressionRetriever\n",
    "from langchain.retrievers.document_compressors import LLMChainExtractor\n",
    "\n",
    "compressor = LLMChainExtractor.from_llm(llm)\n",
    "compression_retriever = ContextualCompressionRetriever(\n",
    "    base_compressor=compressor, base_retriever=retriever\n",
    ")\n",
    "\n",
    "compressed_docs = compression_retriever.invoke(\"公司从事的业务情况\")\n",
    "format_documents_vscode(compressed_docs)"
   ]
  },
  {
   "cell_type": "markdown",
   "metadata": {},
   "source": [
    "## More built-in compressors: filters\n",
    "### LLMChainFilter"
   ]
  },
  {
   "cell_type": "code",
   "execution_count": null,
   "metadata": {},
   "outputs": [],
   "source": [
    "from langchain.retrievers.document_compressors import LLMChainFilter\n",
    "\n",
    "_filter = LLMChainFilter.from_llm(llm)\n",
    "compression_retriever = ContextualCompressionRetriever(\n",
    "    base_compressor=_filter, base_retriever=retriever\n",
    ")\n",
    "\n",
    "compressed_docs = compression_retriever.invoke(\"公司从事的业务情况\")\n",
    "format_documents_vscode(compressed_docs)"
   ]
  },
  {
   "cell_type": "markdown",
   "metadata": {},
   "source": [
    "### EmbeddingsFilter"
   ]
  },
  {
   "cell_type": "code",
   "execution_count": null,
   "metadata": {},
   "outputs": [],
   "source": [
    "from langchain.retrievers.document_compressors import EmbeddingsFilter\n",
    "\n",
    "embeddings_filter = EmbeddingsFilter(embeddings=embeddings, similarity_threshold=0.76)\n",
    "compression_retriever = ContextualCompressionRetriever(\n",
    "    base_compressor=embeddings_filter, base_retriever=retriever\n",
    ")\n",
    "\n",
    "compressed_docs = compression_retriever.invoke(\"公司从事的业务情况\")\n",
    "format_documents_vscode(compressed_docs)"
   ]
  },
  {
   "cell_type": "code",
   "execution_count": null,
   "metadata": {},
   "outputs": [],
   "source": [
    "keyword = \"公司从事的业务情况\"\n",
    "for text in texts:\n",
    "    if text.metadata['page'] == 14:\n",
    "        single_document_vscode(text)\n",
    "    # if keyword in text.page_content:\n",
    "    #     # format_documents_vscode(text)\n",
    "    #     single_document_vscode(text)"
   ]
  }
 ],
 "metadata": {
  "kernelspec": {
   "display_name": "NotionBot",
   "language": "python",
   "name": "python3"
  },
  "language_info": {
   "codemirror_mode": {
    "name": "ipython",
    "version": 3
   },
   "file_extension": ".py",
   "mimetype": "text/x-python",
   "name": "python",
   "nbconvert_exporter": "python",
   "pygments_lexer": "ipython3",
   "version": "3.10.14"
  }
 },
 "nbformat": 4,
 "nbformat_minor": 2
}
