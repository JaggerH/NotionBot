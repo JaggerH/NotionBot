{
 "cells": [
  {
   "cell_type": "code",
   "execution_count": 1,
   "metadata": {},
   "outputs": [],
   "source": [
    "import os, sys\n",
    "from sys import stdout\n",
    "sys.path.append('..')\n",
    "from utils.pdf_helper import extract_chapters"
   ]
  },
  {
   "cell_type": "markdown",
   "metadata": {},
   "source": [
    "# 读取目录"
   ]
  },
  {
   "cell_type": "markdown",
   "metadata": {},
   "source": [
    "## 读取单个目录"
   ]
  },
  {
   "cell_type": "code",
   "execution_count": 2,
   "metadata": {},
   "outputs": [],
   "source": [
    "path = r'data/000792_盐湖股份/000792_盐湖股份_2023年年度报告_1219471218.pdf'\n",
    "chapters = extract_chapters(path)"
   ]
  },
  {
   "cell_type": "markdown",
   "metadata": {},
   "source": [
    "# 匹配管理层经营分析"
   ]
  },
  {
   "cell_type": "markdown",
   "metadata": {},
   "source": [
    "## 最终方案"
   ]
  },
  {
   "cell_type": "code",
   "execution_count": 3,
   "metadata": {},
   "outputs": [],
   "source": [
    "from utils.pdf_helper import read_management_chapter\n",
    "page_content = read_management_chapter(path)\n",
    "\n",
    "with open(\"test.md\", \"w\", encoding=\"utf-8\") as file:\n",
    "    file.write(page_content)"
   ]
  },
  {
   "cell_type": "markdown",
   "metadata": {},
   "source": [
    "## 步骤拆分\n",
    "### 获取\"管理层讨论与分析\"起止页"
   ]
  },
  {
   "cell_type": "code",
   "execution_count": 4,
   "metadata": {},
   "outputs": [
    {
     "data": {
      "text/plain": [
       "(10, 36, '第三节 管理层讨论与分析', '第四节 公司治理')"
      ]
     },
     "execution_count": 4,
     "metadata": {},
     "output_type": "execute_result"
    }
   ],
   "source": [
    "from utils.pdf_helper import chapter_range\n",
    "\n",
    "keywords = [\"管理层讨论与分析\", \"董事会报告\"]\n",
    "for keyword in keywords:\n",
    "    try:\n",
    "        start_page, end_page, start_title, end_title = chapter_range(chapters, keyword)\n",
    "        break\n",
    "    except:\n",
    "        continue\n",
    "    \n",
    "start_page, end_page, start_title, end_title"
   ]
  },
  {
   "cell_type": "markdown",
   "metadata": {},
   "source": [
    "## 抽取章节内容\n",
    "### PPStructure + pdfplumber\n",
    "优点:可以OCR\n",
    "缺点:速度比纯pdfplumber的慢x4"
   ]
  },
  {
   "cell_type": "code",
   "execution_count": 5,
   "metadata": {},
   "outputs": [],
   "source": [
    "import fitz\n",
    "from utils.pdf_helper import crop_page, recongize_layout, debug_layout, chapter_range, extract_content\n",
    "\n",
    "page_content = \"\"\n",
    "with fitz.open(path) as pdf:\n",
    "    for page_num in range(start_page, end_page + 1): # range的特点,不+1的话会少一页\n",
    "        page = pdf[page_num - 1] # 下标从0开始,所以要减1\n",
    "        image = crop_page(page)\n",
    "        page_layout = recongize_layout(image)\n",
    "        if page_num == 11:\n",
    "            # image.save(\"page_13.png\")\n",
    "            debug_layout(image, page_layout)\n",
    "        page_content += extract_content(page, page_layout)\n"
   ]
  },
  {
   "cell_type": "markdown",
   "metadata": {},
   "source": [
    "### pdfplumber实现"
   ]
  },
  {
   "cell_type": "code",
   "execution_count": 6,
   "metadata": {},
   "outputs": [
    {
     "name": "stdout",
     "output_type": "stream",
     "text": [
      "[{'type': 'table', 'bbox': [0, 0, 595, 807], 'content': [[None, ''], ['', '西青海藏盐天湖路工股业股份份有有限限公公司司\\nTQINIGBHEAIT S ATLTI LAAKNEL INUD UCSTORY. ，COL.,LTTDD'], [None, ''], ['', '第三节 管理层讨论与分析'], [None, '10']]}]\n"
     ]
    }
   ],
   "source": [
    "import re\n",
    "import fitz\n",
    "import pdfplumber\n",
    "from utils.pdf_helper import find_header_and_footer, extract_content, debug_page\n",
    "\n",
    "page_content = \"\"\n",
    "hnf, page_size = find_header_and_footer(path, start_page, end_page) # header and footer\n",
    "with pdfplumber.open(path) as pdf:\n",
    "    for page_num in range(start_page, end_page + 1): # range的特点,不+1的话会少一页\n",
    "        page = pdf.pages[page_num - 1]\n",
    "        tables = page.find_tables()\n",
    "        # 是否使用hnf模板\n",
    "        page_layout = hnf[:] if (int(page.width), int(page.height)) == page_size else []\n",
    "        \n",
    "        if tables:\n",
    "            for table in tables:\n",
    "                bbox = table.bbox\n",
    "                bbox = [bbox[0] - 1, bbox[1] - 1, bbox[2] + 1, bbox[3] + 1] # 扩大才能识别全\n",
    "                page_layout.append({'type': 'table', 'bbox': bbox, 'content': table.extract()})\n",
    "\n",
    "        page_content += extract_content(page, page_layout)\n",
    "        if page_num == 11:\n",
    "            debug_page(path, page_num - 1, page_layout)\n",
    "            print(page_layout)\n",
    "\n",
    "    # with open(\"test.md\", \"w\", encoding=\"utf-8\") as file:\n",
    "    #     file.write(page_content)"
   ]
  }
 ],
 "metadata": {
  "kernelspec": {
   "display_name": "NotionBot",
   "language": "python",
   "name": "python3"
  },
  "language_info": {
   "codemirror_mode": {
    "name": "ipython",
    "version": 3
   },
   "file_extension": ".py",
   "mimetype": "text/x-python",
   "name": "python",
   "nbconvert_exporter": "python",
   "pygments_lexer": "ipython3",
   "version": "3.10.14"
  }
 },
 "nbformat": 4,
 "nbformat_minor": 2
}
